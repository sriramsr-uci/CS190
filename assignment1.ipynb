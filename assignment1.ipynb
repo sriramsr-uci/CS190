{
  "nbformat": 4,
  "nbformat_minor": 0,
  "metadata": {
    "kernelspec": {
      "display_name": "Python 3",
      "language": "python",
      "name": "python3"
    },
    "language_info": {
      "codemirror_mode": {
        "name": "ipython",
        "version": 3
      },
      "file_extension": ".py",
      "mimetype": "text/x-python",
      "name": "python",
      "nbconvert_exporter": "python",
      "pygments_lexer": "ipython3",
      "version": "3.6.12"
    },
    "colab": {
      "name": "assignment1.ipynb",
      "provenance": []
    },
    "accelerator": "GPU"
  },
  "cells": [
    {
      "cell_type": "markdown",
      "metadata": {
        "id": "y-YZChgyTPSJ"
      },
      "source": [
        "# Assignment\n",
        "\n",
        "In this assignment we will train a multiple (multivariable) linear regression model, extending the single variable linear regression model in the tutorial. \n",
        "\n",
        "This assignment is part of the class **Introduction to Deep Learning for Medical Imaging** at University of California Irvine (CS190); more information can be found: https://github.com/peterchang77/dl_tutor/tree/master/cs190."
      ]
    },
    {
      "cell_type": "markdown",
      "metadata": {
        "id": "FtQrLR2XTPSL"
      },
      "source": [
        "### Submission\n",
        "\n",
        "Once complete, the following items must be submitted:\n",
        "\n",
        "* final `*.ipynb` notebook\n",
        "* final trained `*.hdf5` model file"
      ]
    },
    {
      "cell_type": "markdown",
      "metadata": {
        "id": "56d3oMiMw8Wm"
      },
      "source": [
        "# Google Colab\n",
        "\n",
        "The following lines of code will configure your Google Colab environment for this assignment."
      ]
    },
    {
      "cell_type": "markdown",
      "metadata": {
        "id": "-5yaHqxUTPSM"
      },
      "source": [
        "### Enable GPU runtime\n",
        "\n",
        "Use the following instructions to switch the default Colab instance into a GPU-enabled runtime:\n",
        "\n",
        "```\n",
        "Runtime > Change runtime type > Hardware accelerator > GPU\n",
        "```"
      ]
    },
    {
      "cell_type": "markdown",
      "metadata": {
        "id": "QO_dRgl1TPSN"
      },
      "source": [
        "# Environment\n",
        "\n",
        "Use the following lines to import any needed libraries:"
      ]
    },
    {
      "cell_type": "code",
      "metadata": {
        "id": "SLnm-pshTPSO"
      },
      "source": [
        "import os, numpy as np\n",
        "from tensorflow import losses, optimizers\n",
        "from tensorflow.keras import Input, Model, models, layers"
      ],
      "execution_count": 1,
      "outputs": []
    },
    {
      "cell_type": "markdown",
      "metadata": {
        "id": "euPZTmqMTPSP"
      },
      "source": [
        "# Data\n",
        "\n",
        "As in the tutorial, data for this assignment will be simulated via a Python generator:"
      ]
    },
    {
      "cell_type": "code",
      "metadata": {
        "id": "jEdTBoKYTPSP"
      },
      "source": [
        "def Generator(batch_size=128):\n",
        "    \"\"\"\n",
        "    Method to define a Python generator for training data\n",
        "    \n",
        "    \"\"\"\n",
        "    # --- Define lambda function for random values [-0.5, +0.5]\n",
        "    lo = -0.5\n",
        "    hi = +0.5\n",
        "    rand = lambda shape : np.random.rand(*shape) * (hi - lo) + lo\n",
        "    \n",
        "    # --- Define lambda function for linear transform\n",
        "    m = np.array([0.2, 0.8, -0.3, 0.4, -0.5]).reshape(5, 1)\n",
        "    b = 0.7\n",
        "    f = lambda x : np.matmul(x, m) + b + rand((x.shape[0], 1))\n",
        "    \n",
        "    while True:\n",
        "        \n",
        "        x = np.random.rand(batch_size, 5)\n",
        "        y = f(x)\n",
        "        \n",
        "        yield x, y"
      ],
      "execution_count": 2,
      "outputs": []
    },
    {
      "cell_type": "markdown",
      "metadata": {
        "id": "owVgYEqmTPSV"
      },
      "source": [
        "**Imporant**: do *not* change the code for the above Generator to ensure that your results are consistent."
      ]
    },
    {
      "cell_type": "markdown",
      "metadata": {
        "id": "vnIXTgl0TPSV"
      },
      "source": [
        "# Training\n",
        "\n",
        "In this assignment we will train a multiple (multivariable) linear regression model, extending the single variable linear regression model in the tutorial The provided input to the model will comprise of a five-element vector, and the output will be a single-element numeric prediction.  "
      ]
    },
    {
      "cell_type": "markdown",
      "metadata": {
        "id": "WcX4LVMWTPSW"
      },
      "source": [
        "### Define the model"
      ]
    },
    {
      "cell_type": "code",
      "metadata": {
        "id": "ftSCbddKTPSW"
      },
      "source": [
        "# --- Define model\n",
        "#x = ?\n",
        "#y = ?\n",
        "x = Input(shape=(5,))\n",
        "op = layers.Dense(1)\n",
        "y = op(x)\n",
        "model = Model(inputs=x, outputs=y)"
      ],
      "execution_count": 10,
      "outputs": []
    },
    {
      "cell_type": "markdown",
      "metadata": {
        "id": "R7gbQVmhTPSX"
      },
      "source": [
        "### Compile the model"
      ]
    },
    {
      "cell_type": "code",
      "metadata": {
        "id": "K5tVHYrYTPSX"
      },
      "source": [
        "# --- Define loss and optimizer\n",
        "loss = losses.MeanSquaredError()\n",
        "optimizer = optimizers.Adam(learning_rate=1e-3)\n",
        "\n",
        "# --- Compile model\n",
        "model.compile(optimizer=optimizer, loss=loss)"
      ],
      "execution_count": 12,
      "outputs": []
    },
    {
      "cell_type": "markdown",
      "metadata": {
        "id": "cwQ4qIH9TPSX"
      },
      "source": [
        "### Train the model"
      ]
    },
    {
      "cell_type": "code",
      "metadata": {
        "id": "HOUVxdP9TPSY",
        "colab": {
          "base_uri": "https://localhost:8080/"
        },
        "outputId": "5e4e9d55-f866-4a4d-9127-22a16062cfc6"
      },
      "source": [
        "gen = Generator()\n",
        "for xs, ys in gen:\n",
        "  print(xs.shape, ys.shape)\n",
        "  break\n",
        "model.fit(\n",
        "    x=gen, \n",
        "    steps_per_epoch=100, \n",
        "    epochs=10)"
      ],
      "execution_count": 19,
      "outputs": [
        {
          "output_type": "stream",
          "name": "stdout",
          "text": [
            "(128, 5) (128, 1)\n",
            "Epoch 1/10\n",
            "100/100 [==============================] - 0s 2ms/step - loss: 0.0836\n",
            "Epoch 2/10\n",
            "100/100 [==============================] - 0s 3ms/step - loss: 0.0824\n",
            "Epoch 3/10\n",
            "100/100 [==============================] - 0s 2ms/step - loss: 0.0838\n",
            "Epoch 4/10\n",
            "100/100 [==============================] - 0s 3ms/step - loss: 0.0833\n",
            "Epoch 5/10\n",
            "100/100 [==============================] - 0s 2ms/step - loss: 0.0839\n",
            "Epoch 6/10\n",
            "100/100 [==============================] - 0s 3ms/step - loss: 0.0834\n",
            "Epoch 7/10\n",
            "100/100 [==============================] - 0s 3ms/step - loss: 0.0842\n",
            "Epoch 8/10\n",
            "100/100 [==============================] - 0s 3ms/step - loss: 0.0838\n",
            "Epoch 9/10\n",
            "100/100 [==============================] - 0s 3ms/step - loss: 0.0842\n",
            "Epoch 10/10\n",
            "100/100 [==============================] - 0s 3ms/step - loss: 0.0831\n"
          ]
        },
        {
          "output_type": "execute_result",
          "data": {
            "text/plain": [
              "<keras.callbacks.History at 0x7f4ad57b72d0>"
            ]
          },
          "metadata": {},
          "execution_count": 19
        }
      ]
    },
    {
      "cell_type": "markdown",
      "metadata": {
        "id": "QAkGdD8mTPSY"
      },
      "source": [
        "# Evaluation\n",
        "\n",
        "Based on the tutorial discussion, use the following cells to check your algorithm performance. Consider loading a saved model and running prediction using `model.predict(...)` on a batch (or several batches) of data. "
      ]
    },
    {
      "cell_type": "code",
      "metadata": {
        "id": "6S7j5ZEeTPSY",
        "colab": {
          "base_uri": "https://localhost:8080/"
        },
        "outputId": "249deee9-8dc3-47da-f28d-aa356496aca0"
      },
      "source": [
        "np.mean((model.predict(xs) - ys) ** 2)"
      ],
      "execution_count": 22,
      "outputs": [
        {
          "output_type": "execute_result",
          "data": {
            "text/plain": [
              "0.06958467816272607"
            ]
          },
          "metadata": {},
          "execution_count": 22
        }
      ]
    },
    {
      "cell_type": "markdown",
      "metadata": {
        "id": "u-JV57giTPSZ"
      },
      "source": [
        "# Submission\n",
        "\n",
        "Use the following line to save your model for submission:"
      ]
    },
    {
      "cell_type": "code",
      "metadata": {
        "id": "WMjU4qSnTPSZ"
      },
      "source": [
        "# --- Serialize a model\n",
        "fname = './model.hdf5'\n",
        "model.save(fname)"
      ],
      "execution_count": null,
      "outputs": []
    },
    {
      "cell_type": "markdown",
      "metadata": {
        "id": "0JYPpIROTPSZ"
      },
      "source": [
        "### Canvas\n",
        "\n",
        "Once you have completed this assignment, download the necessary files from Google Colab and your Google Drive. You will then need to submit the following items:\n",
        "\n",
        "* final (completed) notebook: `[UCInetID]_assignment.ipynb`\n",
        "* final (trained) model: `[UCInetID]_model.hdf5`\n",
        "\n",
        "**Important**: please submit all your files prefixed with your UCInetID as listed above. Your UCInetID is the part of your UCI email address that comes before `@uci.edu`. For example, Peter Anteater has an email address of panteater@uci.edu, so his notebooked file would be submitted under the name `panteater_notebook.ipynb` and his model file would be submitted under the name `panteater_model.hdf5`."
      ]
    }
  ]
}